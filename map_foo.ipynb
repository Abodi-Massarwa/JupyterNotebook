{
 "cells": [
  {
   "cell_type": "code",
   "execution_count": 18,
   "id": "fc2a79b5-54ce-4ee9-865e-e1caf5e9c707",
   "metadata": {},
   "outputs": [
    {
     "name": "stdout",
     "output_type": "stream",
     "text": [
      "['even', 'C', 'S', 'K', 'even']\n"
     ]
    }
   ],
   "source": [
    "def splicer(mystring):\n",
    "    if len(mystring) % 2 == 0:\n",
    "        return 'even'\n",
    "    else:\n",
    "        return mystring[0]\n",
    "mynames = ['John','Cindy','Sarah','Kelly','Mike']\n",
    "my_map=(map(splicer,mynames))\n",
    "print([item for item in my_map])"
   ]
  },
  {
   "cell_type": "code",
   "execution_count": 19,
   "id": "08217c55-3e84-453d-9364-e92bf250122d",
   "metadata": {},
   "outputs": [
    {
     "name": "stdout",
     "output_type": "stream",
     "text": [
      "Help on class map in module builtins:\n",
      "\n",
      "class map(object)\n",
      " |  map(func, *iterables) --> map object\n",
      " |  \n",
      " |  Make an iterator that computes the function using arguments from\n",
      " |  each of the iterables.  Stops when the shortest iterable is exhausted.\n",
      " |  \n",
      " |  Methods defined here:\n",
      " |  \n",
      " |  __getattribute__(self, name, /)\n",
      " |      Return getattr(self, name).\n",
      " |  \n",
      " |  __iter__(self, /)\n",
      " |      Implement iter(self).\n",
      " |  \n",
      " |  __next__(self, /)\n",
      " |      Implement next(self).\n",
      " |  \n",
      " |  __reduce__(...)\n",
      " |      Return state information for pickling.\n",
      " |  \n",
      " |  ----------------------------------------------------------------------\n",
      " |  Static methods defined here:\n",
      " |  \n",
      " |  __new__(*args, **kwargs) from builtins.type\n",
      " |      Create and return a new object.  See help(type) for accurate signature.\n",
      "\n"
     ]
    }
   ],
   "source": [
    "help(map)"
   ]
  },
  {
   "cell_type": "code",
   "execution_count": 30,
   "id": "34b85808-f598-4fbf-b06f-0258662c50f1",
   "metadata": {},
   "outputs": [],
   "source": [
    "def foo (**kwargs):\n",
    "    print (kwargs)"
   ]
  },
  {
   "cell_type": "code",
   "execution_count": 35,
   "id": "daf94dc2-2d5c-4008-8961-f6ac7a04f089",
   "metadata": {},
   "outputs": [
    {
     "name": "stdout",
     "output_type": "stream",
     "text": [
      "{'first': 'fuck', 'second': 'you'}\n"
     ]
    }
   ],
   "source": [
    "foo(first=\"fuck\",second=\"you\")"
   ]
  },
  {
   "cell_type": "raw",
   "id": "0b2d3a13-5013-4269-a23c-ee0e713c6d59",
   "metadata": {},
   "source": [
    "def foof(word):\n",
    "    if word==\"fuck\":\n",
    "        return true\n",
    "    else: return false\n",
    "filter(lambda x:true,[\"FUCK\",\"fuck\"])"
   ]
  },
  {
   "cell_type": "code",
   "execution_count": 38,
   "id": "385b5106-efca-4bdc-992d-39aab22c0060",
   "metadata": {},
   "outputs": [
    {
     "data": {
      "text/plain": [
       "<filter at 0x7f5e7bfaa950>"
      ]
     },
     "execution_count": 38,
     "metadata": {},
     "output_type": "execute_result"
    }
   ],
   "source": [
    "filter(lambda x:true,[\"FUCK\",\"fuck\"])"
   ]
  },
  {
   "cell_type": "code",
   "execution_count": null,
   "id": "cb2a636d-6e5d-4412-a64e-d84c43fa74a7",
   "metadata": {},
   "outputs": [],
   "source": []
  }
 ],
 "metadata": {
  "kernelspec": {
   "display_name": "Python 3 (ipykernel)",
   "language": "python",
   "name": "python3"
  },
  "language_info": {
   "codemirror_mode": {
    "name": "ipython",
    "version": 3
   },
   "file_extension": ".py",
   "mimetype": "text/x-python",
   "name": "python",
   "nbconvert_exporter": "python",
   "pygments_lexer": "ipython3",
   "version": "3.10.12"
  }
 },
 "nbformat": 4,
 "nbformat_minor": 5
}
