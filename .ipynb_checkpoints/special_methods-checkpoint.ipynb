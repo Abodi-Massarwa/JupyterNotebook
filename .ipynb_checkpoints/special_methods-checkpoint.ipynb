{
 "cells": [
  {
   "cell_type": "code",
   "execution_count": 2,
   "id": "47cd8181-1b83-4567-ab4a-17c2064627f8",
   "metadata": {},
   "outputs": [],
   "source": [
    "class Person: \n",
    "    def __init__(self,age,salary):\n",
    "        self.salary=salary\n",
    "        self.age=age\n",
    "    def __add__(self,obj2):\n",
    "        self.salary+=obj2.salary\n",
    "\n",
    "        "
   ]
  },
  {
   "cell_type": "code",
   "execution_count": 6,
   "id": "ed59287a-8ed0-4260-8193-7f21e5f81a1c",
   "metadata": {},
   "outputs": [
    {
     "name": "stdout",
     "output_type": "stream",
     "text": [
      "101\n"
     ]
    }
   ],
   "source": [
    "p1= Person(69,100)\n",
    "p2= Person(69,1)\n",
    "p1+p2\n",
    "print(p1.salary)"
   ]
  },
  {
   "cell_type": "code",
   "execution_count": null,
   "id": "67f4e0f9-3936-42c8-a0cd-d4f6309ab8b7",
   "metadata": {},
   "outputs": [],
   "source": []
  }
 ],
 "metadata": {
  "kernelspec": {
   "display_name": "Python 3 (ipykernel)",
   "language": "python",
   "name": "python3"
  },
  "language_info": {
   "codemirror_mode": {
    "name": "ipython",
    "version": 3
   },
   "file_extension": ".py",
   "mimetype": "text/x-python",
   "name": "python",
   "nbconvert_exporter": "python",
   "pygments_lexer": "ipython3",
   "version": "3.10.12"
  }
 },
 "nbformat": 4,
 "nbformat_minor": 5
}
