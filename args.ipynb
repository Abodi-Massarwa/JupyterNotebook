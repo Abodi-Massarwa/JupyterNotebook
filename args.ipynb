{
 "cells": [
  {
   "cell_type": "code",
   "execution_count": 2,
   "id": "3917ca1c-0eb1-42b8-8597-c2b7bb6c16ec",
   "metadata": {},
   "outputs": [],
   "source": [
    "def print_matrix(*lists):\n",
    "    for item in lists:\n",
    "        print (item)\n"
   ]
  },
  {
   "cell_type": "code",
   "execution_count": 3,
   "id": "dc67728c-6d75-4e46-8a83-3421dfdc70b1",
   "metadata": {},
   "outputs": [
    {
     "name": "stdout",
     "output_type": "stream",
     "text": [
      "[1, 2, 3]\n",
      "[4, 5, 6]\n",
      "[7, 8, 9]\n"
     ]
    }
   ],
   "source": [
    "print_matrix([1,2,3],[4,5,6],[7,8,9])"
   ]
  },
  {
   "cell_type": "code",
   "execution_count": null,
   "id": "61e018d3-ae56-43c4-bd76-402c88cac501",
   "metadata": {},
   "outputs": [],
   "source": []
  }
 ],
 "metadata": {
  "kernelspec": {
   "display_name": "Python 3 (ipykernel)",
   "language": "python",
   "name": "python3"
  },
  "language_info": {
   "codemirror_mode": {
    "name": "ipython",
    "version": 3
   },
   "file_extension": ".py",
   "mimetype": "text/x-python",
   "name": "python",
   "nbconvert_exporter": "python",
   "pygments_lexer": "ipython3",
   "version": "3.10.12"
  }
 },
 "nbformat": 4,
 "nbformat_minor": 5
}
