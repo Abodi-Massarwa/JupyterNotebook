{
 "cells": [
  {
   "cell_type": "code",
   "execution_count": 2,
   "id": "3917ca1c-0eb1-42b8-8597-c2b7bb6c16ec",
   "metadata": {},
   "outputs": [],
   "source": [
    "def print_matrix(*lists):\n",
    "    for item in lists:\n",
    "        print (item)\n"
   ]
  },
  {
   "cell_type": "code",
   "execution_count": 3,
   "id": "dc67728c-6d75-4e46-8a83-3421dfdc70b1",
   "metadata": {},
   "outputs": [
    {
     "name": "stdout",
     "output_type": "stream",
     "text": [
      "[1, 2, 3]\n",
      "[4, 5, 6]\n",
      "[7, 8, 9]\n"
     ]
    }
   ],
   "source": [
    "print_matrix([1,2,3],[4,5,6],[7,8,9])"
   ]
  },
  {
   "cell_type": "code",
   "execution_count": 4,
   "id": "61e018d3-ae56-43c4-bd76-402c88cac501",
   "metadata": {},
   "outputs": [
    {
     "name": "stdin",
     "output_type": "stream",
     "text": [
      "pleae enter the tuple of lists u want to print ([1,2,3],[4,5,6],[7,8,9])\n"
     ]
    }
   ],
   "source": [
    "tuple_of_lists= input('pleae enter the tuple of lists u want to print')"
   ]
  },
  {
   "cell_type": "code",
   "execution_count": 5,
   "id": "4842dfb1-e340-4b5a-a5c3-b99c58b37b78",
   "metadata": {},
   "outputs": [
    {
     "data": {
      "text/plain": [
       "'([1,2,3],[4,5,6],[7,8,9])'"
      ]
     },
     "execution_count": 5,
     "metadata": {},
     "output_type": "execute_result"
    }
   ],
   "source": [
    "tuple_of_lists"
   ]
  },
  {
   "cell_type": "code",
   "execution_count": 6,
   "id": "c3fa1479-d19f-4a6f-a8ca-680fcaac14d7",
   "metadata": {},
   "outputs": [
    {
     "data": {
      "text/plain": [
       "str"
      ]
     },
     "execution_count": 6,
     "metadata": {},
     "output_type": "execute_result"
    }
   ],
   "source": [
    "type(tuple_of_lists)"
   ]
  },
  {
   "cell_type": "code",
   "execution_count": 7,
   "id": "4251d474-17e7-4abd-84b2-0310ea491eb2",
   "metadata": {},
   "outputs": [
    {
     "data": {
      "text/plain": [
       "('(',\n",
       " '[',\n",
       " '1',\n",
       " ',',\n",
       " '2',\n",
       " ',',\n",
       " '3',\n",
       " ']',\n",
       " ',',\n",
       " '[',\n",
       " '4',\n",
       " ',',\n",
       " '5',\n",
       " ',',\n",
       " '6',\n",
       " ']',\n",
       " ',',\n",
       " '[',\n",
       " '7',\n",
       " ',',\n",
       " '8',\n",
       " ',',\n",
       " '9',\n",
       " ']',\n",
       " ')')"
      ]
     },
     "execution_count": 7,
     "metadata": {},
     "output_type": "execute_result"
    }
   ],
   "source": [
    "tuple(tuple_of_lists)"
   ]
  },
  {
   "cell_type": "code",
   "execution_count": 8,
   "id": "a7d1f1bc-3395-4bbb-88ba-959636374287",
   "metadata": {},
   "outputs": [
    {
     "name": "stdout",
     "output_type": "stream",
     "text": [
      "([1,2,3],[4,5,6],[7,8,9])\n"
     ]
    }
   ],
   "source": [
    "print_matrix(tuple_of_lists)"
   ]
  },
  {
   "cell_type": "code",
   "execution_count": 9,
   "id": "b8aeabea-5f2b-45c7-9cf4-14d20559f776",
   "metadata": {},
   "outputs": [
    {
     "data": {
      "text/plain": [
       "'([1,2,3],[4,5,6],[7,8,9])'"
      ]
     },
     "execution_count": 9,
     "metadata": {},
     "output_type": "execute_result"
    }
   ],
   "source": [
    "tuple_of_lists"
   ]
  },
  {
   "cell_type": "code",
   "execution_count": null,
   "id": "cabebce4-9b7d-4eb2-88aa-bb081e87193c",
   "metadata": {},
   "outputs": [],
   "source": []
  }
 ],
 "metadata": {
  "kernelspec": {
   "display_name": "Python 3 (ipykernel)",
   "language": "python",
   "name": "python3"
  },
  "language_info": {
   "codemirror_mode": {
    "name": "ipython",
    "version": 3
   },
   "file_extension": ".py",
   "mimetype": "text/x-python",
   "name": "python",
   "nbconvert_exporter": "python",
   "pygments_lexer": "ipython3",
   "version": "3.10.12"
  }
 },
 "nbformat": 4,
 "nbformat_minor": 5
}
