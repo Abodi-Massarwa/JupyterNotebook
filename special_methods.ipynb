{
 "cells": [
  {
   "cell_type": "code",
   "execution_count": 9,
   "id": "47cd8181-1b83-4567-ab4a-17c2064627f8",
   "metadata": {},
   "outputs": [],
   "source": [
    "class Person: \n",
    "    def __init__(self,age,salary):\n",
    "        self.salary=salary\n",
    "        self.age=age\n",
    "    def __add__(self,obj2):\n",
    "        self.salary+=obj2.salary\n",
    "\n",
    "class Arab(Person):\n",
    "    def __init__(self,age,salary,mustache_beard):\n",
    "        Person.__init__(self,age,salary)\n",
    "        self.mustache_beard=(mustache_beard[0],mustache_beard[1]) # tuple of bools   "
   ]
  },
  {
   "cell_type": "code",
   "execution_count": 6,
   "id": "ed59287a-8ed0-4260-8193-7f21e5f81a1c",
   "metadata": {},
   "outputs": [
    {
     "name": "stdout",
     "output_type": "stream",
     "text": [
      "101\n"
     ]
    }
   ],
   "source": [
    "p1= Person(69,100)\n",
    "p2= Person(69,1)\n",
    "p1+p2\n",
    "print(p1.salary)"
   ]
  },
  {
   "cell_type": "code",
   "execution_count": 10,
   "id": "67f4e0f9-3936-42c8-a0cd-d4f6309ab8b7",
   "metadata": {},
   "outputs": [],
   "source": [
    "a1=Arab(25,100,(1,0))"
   ]
  },
  {
   "cell_type": "code",
   "execution_count": 11,
   "id": "8eacc00a-b969-411b-9ab1-8ef3af74b221",
   "metadata": {},
   "outputs": [
    {
     "name": "stdout",
     "output_type": "stream",
     "text": [
      "__main__\n"
     ]
    }
   ],
   "source": [
    "print(__name__)"
   ]
  },
  {
   "cell_type": "code",
   "execution_count": 12,
   "id": "a699a331-d3f6-4490-b39b-0325f79594b6",
   "metadata": {},
   "outputs": [
    {
     "ename": "TypeError",
     "evalue": "unsupported operand type(s) for +: 'int' and 'list'",
     "output_type": "error",
     "traceback": [
      "\u001b[0;31m---------------------------------------------------------------------------\u001b[0m",
      "\u001b[0;31mTypeError\u001b[0m                                 Traceback (most recent call last)",
      "Cell \u001b[0;32mIn[12], line 1\u001b[0m\n\u001b[0;32m----> 1\u001b[0m \u001b[38;5;241;43m1\u001b[39;49m\u001b[38;5;241;43m+\u001b[39;49m\u001b[43m[\u001b[49m\u001b[38;5;241;43m1\u001b[39;49m\u001b[43m,\u001b[49m\u001b[38;5;241;43m2\u001b[39;49m\u001b[43m,\u001b[49m\u001b[38;5;241;43m3\u001b[39;49m\u001b[43m]\u001b[49m\n",
      "\u001b[0;31mTypeError\u001b[0m: unsupported operand type(s) for +: 'int' and 'list'"
     ]
    }
   ],
   "source": [
    "1+[1,2,3]"
   ]
  },
  {
   "cell_type": "code",
   "execution_count": 16,
   "id": "2758bb68-ff8a-429b-a0a6-988f81b9151c",
   "metadata": {},
   "outputs": [
    {
     "name": "stdin",
     "output_type": "stream",
     "text": [
      " bozo\n"
     ]
    },
    {
     "name": "stdout",
     "output_type": "stream",
     "text": [
      "OPS BOZO U DONT KNOW MATH ?\n",
      "BYE BYE !\n"
     ]
    }
   ],
   "source": [
    "try: \n",
    "    input()+[1,2,3]\n",
    "except TypeError: \n",
    "    print(\"OPS BOZO U DONT KNOW MATH ?\")\n",
    "finally:\n",
    "    print(\"BYE BYE !\")"
   ]
  },
  {
   "cell_type": "code",
   "execution_count": null,
   "id": "45e0ec43-7344-4903-a601-537273b3c241",
   "metadata": {},
   "outputs": [],
   "source": []
  }
 ],
 "metadata": {
  "kernelspec": {
   "display_name": "Python 3 (ipykernel)",
   "language": "python",
   "name": "python3"
  },
  "language_info": {
   "codemirror_mode": {
    "name": "ipython",
    "version": 3
   },
   "file_extension": ".py",
   "mimetype": "text/x-python",
   "name": "python",
   "nbconvert_exporter": "python",
   "pygments_lexer": "ipython3",
   "version": "3.10.12"
  }
 },
 "nbformat": 4,
 "nbformat_minor": 5
}
